{
 "cells": [
  {
   "cell_type": "code",
   "execution_count": 2,
   "id": "07e2f8b9",
   "metadata": {},
   "outputs": [],
   "source": [
    "import numpy as np\n",
    "import pandas as pd\n",
    "from scipy import signal"
   ]
  },
  {
   "cell_type": "code",
   "execution_count": 3,
   "id": "7c4d3341",
   "metadata": {},
   "outputs": [],
   "source": [
    "class Layer:\n",
    "    def __init__(self):\n",
    "        self.input = None\n",
    "        self.output = None\n",
    "\n",
    "    def forward(self, input):\n",
    "        pass\n",
    "\n",
    "    def backward(self, output_gradient, learning_rate):\n",
    "        pass"
   ]
  },
  {
   "cell_type": "code",
   "execution_count": 4,
   "id": "e6c547d8",
   "metadata": {},
   "outputs": [],
   "source": [
    "class granule_cell(Layer):\n",
    "    \n",
    "    def __init__(self, input_shape):\n",
    "        \n",
    "        input_height, input_width = input_shape\n",
    "        self.input_shape = input_shape\n",
    "        self.output_shape = input_shape\n",
    "        self.kernels_shape = input_shape\n",
    "        self.kernels = np.random.randn(*self.kernels_shape)\n",
    "        self.biases = np.random.randn(*self.output_shape)  \n",
    "        \n",
    "    def forward(self, input):\n",
    "        \n",
    "        pass\n",
    "    \n",
    "    def backward(self, ):\n",
    "        \n",
    "        pass"
   ]
  }
 ],
 "metadata": {
  "kernelspec": {
   "display_name": "Python 3 (ipykernel)",
   "language": "python",
   "name": "python3"
  },
  "language_info": {
   "codemirror_mode": {
    "name": "ipython",
    "version": 3
   },
   "file_extension": ".py",
   "mimetype": "text/x-python",
   "name": "python",
   "nbconvert_exporter": "python",
   "pygments_lexer": "ipython3",
   "version": "3.9.12"
  }
 },
 "nbformat": 4,
 "nbformat_minor": 5
}
